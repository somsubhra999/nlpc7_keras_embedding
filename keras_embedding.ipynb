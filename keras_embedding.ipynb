{
  "nbformat": 4,
  "nbformat_minor": 0,
  "metadata": {
    "colab": {
      "name": "keras_embedding.ipynb",
      "provenance": [],
      "authorship_tag": "ABX9TyOZT+aD7xwnWzi0b0QWTLqd",
      "include_colab_link": true
    },
    "kernelspec": {
      "name": "python3",
      "display_name": "Python 3"
    }
  },
  "cells": [
    {
      "cell_type": "markdown",
      "metadata": {
        "id": "view-in-github",
        "colab_type": "text"
      },
      "source": [
        "<a href=\"https://colab.research.google.com/github/somsubhra999/nlpc7_keras_embedding/blob/master/keras_embedding.ipynb\" target=\"_parent\"><img src=\"https://colab.research.google.com/assets/colab-badge.svg\" alt=\"Open In Colab\"/></a>"
      ]
    },
    {
      "cell_type": "code",
      "metadata": {
        "id": "rQWhBnQVR5DX",
        "colab_type": "code",
        "colab": {}
      },
      "source": [
        "from keras import models, layers, backend\n",
        "from keras.utils.np_utils import to_categorical\n",
        "from keras.datasets import reuters\n",
        "from keras.preprocessing.sequence import pad_sequences\n",
        "from pprint import pprint\n",
        "import matplotlib.pyplot as plt"
      ],
      "execution_count": 126,
      "outputs": []
    },
    {
      "cell_type": "markdown",
      "metadata": {
        "id": "HIHeey9VzOW_",
        "colab_type": "text"
      },
      "source": [
        "Creating word index and reverse word index for the Reuters dataset and printing first 10 samples of each"
      ]
    },
    {
      "cell_type": "code",
      "metadata": {
        "id": "0Xhtrg3SeK2N",
        "colab_type": "code",
        "colab": {
          "base_uri": "https://localhost:8080/",
          "height": 357
        },
        "outputId": "ee5926a1-60c7-4c47-df00-e4970ab26444"
      },
      "source": [
        "word_index = reuters.get_word_index()\n",
        "reverse_word_index = dict(map(reversed, word_index.items()))\n",
        "\n",
        "pprint(dict(list(word_index.items())[0: 10]))\n",
        "pprint(dict(list(reverse_word_index.items())[0: 10]))"
      ],
      "execution_count": 179,
      "outputs": [
        {
          "output_type": "stream",
          "text": [
            "{'chanthaburi': 20675,\n",
            " 'degussa': 12089,\n",
            " 'fawc': 16260,\n",
            " 'hanging': 13796,\n",
            " 'hermann': 8804,\n",
            " 'localized': 20672,\n",
            " 'mdbl': 10996,\n",
            " 'refunding': 10997,\n",
            " 'sation': 20673,\n",
            " 'woods': 8803}\n",
            "{8803: 'woods',\n",
            " 8804: 'hermann',\n",
            " 10996: 'mdbl',\n",
            " 10997: 'refunding',\n",
            " 12089: 'degussa',\n",
            " 13796: 'hanging',\n",
            " 16260: 'fawc',\n",
            " 20672: 'localized',\n",
            " 20673: 'sation',\n",
            " 20675: 'chanthaburi'}\n"
          ],
          "name": "stdout"
        }
      ]
    },
    {
      "cell_type": "markdown",
      "metadata": {
        "id": "W58gVPaKzfeQ",
        "colab_type": "text"
      },
      "source": [
        "Loading data and associated labels. The entire dataset is split with a 0.2 ratio which means 80% of the data will be used for training and 20% for testing.\n",
        "\n",
        "Words are ranked by how often they occur (in the training set) and only the `num_words` most frequent words are kept. For our training we are keeping only the top 100 frequent words."
      ]
    },
    {
      "cell_type": "code",
      "metadata": {
        "id": "MteoIZvRmLL4",
        "colab_type": "code",
        "colab": {}
      },
      "source": [
        "max_length = 100\n",
        "(x_train, y_train), (x_test, y_test) = reuters.load_data(test_split=0.2, num_words=max_length)"
      ],
      "execution_count": 221,
      "outputs": []
    },
    {
      "cell_type": "markdown",
      "metadata": {
        "id": "fbBPhjr-ID3h",
        "colab_type": "text"
      },
      "source": [
        "Converting the class vectors to binary class matrices (one-hot encoded)."
      ]
    },
    {
      "cell_type": "code",
      "metadata": {
        "id": "EaArg_XWLji4",
        "colab_type": "code",
        "colab": {
          "base_uri": "https://localhost:8080/",
          "height": 34
        },
        "outputId": "4d9db3d0-4dc4-4443-e0cb-dd666b032bc5"
      },
      "source": [
        "y_train_cat = to_categorical(y_train)\n",
        "y_test_cat = to_categorical(y_test)\n",
        "\n",
        "categories = len(y_train_cat[0])\n",
        "\n",
        "print('Total categories = {}'.format(categories))"
      ],
      "execution_count": 222,
      "outputs": [
        {
          "output_type": "stream",
          "text": [
            "Total categories = 46\n"
          ],
          "name": "stdout"
        }
      ]
    },
    {
      "cell_type": "markdown",
      "metadata": {
        "id": "M49G7M_819U8",
        "colab_type": "text"
      },
      "source": [
        "Padding zeroes to the end of each sequence to ensure that each sequence has a uniform length."
      ]
    },
    {
      "cell_type": "code",
      "metadata": {
        "id": "4-eJhscezv96",
        "colab_type": "code",
        "colab": {}
      },
      "source": [
        "x_train = pad_sequences(x_train, maxlen=max_length, padding='post')\n",
        "x_test = pad_sequences(x_test, maxlen=max_length, padding='post')"
      ],
      "execution_count": 223,
      "outputs": []
    },
    {
      "cell_type": "markdown",
      "metadata": {
        "id": "7mj6u0C5F4Xf",
        "colab_type": "text"
      },
      "source": [
        "Creating and adding layers to the model."
      ]
    },
    {
      "cell_type": "code",
      "metadata": {
        "id": "ZaiMTv3EKzF9",
        "colab_type": "code",
        "colab": {
          "base_uri": "https://localhost:8080/",
          "height": 289
        },
        "outputId": "25599897-052b-47c7-eabc-4fda3257170f"
      },
      "source": [
        "backend.clear_session()\n",
        "model = models.Sequential()\n",
        "model.add(Embedding(max_length, 8, input_length=max_length))\n",
        "model.add(layers.Flatten())\n",
        "model.add(layers.Dropout(0.5))\n",
        "model.add(layers.Dense(categories, activation='softmax'))\n",
        "\n",
        "model.compile(optimizer='rmsprop',\n",
        "              loss='binary_crossentropy',\n",
        "              metrics=['accuracy'])\n",
        "model.summary()"
      ],
      "execution_count": 240,
      "outputs": [
        {
          "output_type": "stream",
          "text": [
            "Model: \"sequential_1\"\n",
            "_________________________________________________________________\n",
            "Layer (type)                 Output Shape              Param #   \n",
            "=================================================================\n",
            "embedding_1 (Embedding)      (None, 100, 8)            800       \n",
            "_________________________________________________________________\n",
            "flatten_1 (Flatten)          (None, 800)               0         \n",
            "_________________________________________________________________\n",
            "dropout_1 (Dropout)          (None, 800)               0         \n",
            "_________________________________________________________________\n",
            "dense_1 (Dense)              (None, 46)                36846     \n",
            "=================================================================\n",
            "Total params: 37,646\n",
            "Trainable params: 37,646\n",
            "Non-trainable params: 0\n",
            "_________________________________________________________________\n"
          ],
          "name": "stdout"
        }
      ]
    },
    {
      "cell_type": "markdown",
      "metadata": {
        "id": "zVtAoZwTL2BY",
        "colab_type": "text"
      },
      "source": [
        "Training the model for 10 epochs."
      ]
    },
    {
      "cell_type": "code",
      "metadata": {
        "id": "_Or_HuYPL847",
        "colab_type": "code",
        "colab": {
          "base_uri": "https://localhost:8080/",
          "height": 768
        },
        "outputId": "11592cdc-38f9-4934-bb06-d97438255e89"
      },
      "source": [
        "history = model.fit(x_train,\n",
        "                    y_train_cat,\n",
        "                    epochs=20,\n",
        "                    validation_data=(x_test, y_test_cat))"
      ],
      "execution_count": 241,
      "outputs": [
        {
          "output_type": "stream",
          "text": [
            "/usr/local/lib/python3.6/dist-packages/tensorflow/python/framework/indexed_slices.py:434: UserWarning: Converting sparse IndexedSlices to a dense Tensor of unknown shape. This may consume a large amount of memory.\n",
            "  \"Converting sparse IndexedSlices to a dense Tensor of unknown shape. \"\n"
          ],
          "name": "stderr"
        },
        {
          "output_type": "stream",
          "text": [
            "Train on 8982 samples, validate on 2246 samples\n",
            "Epoch 1/20\n",
            "8982/8982 [==============================] - 1s 85us/step - loss: 0.0682 - accuracy: 0.9816 - val_loss: 0.0591 - val_accuracy: 0.9843\n",
            "Epoch 2/20\n",
            "8982/8982 [==============================] - 1s 72us/step - loss: 0.0574 - accuracy: 0.9847 - val_loss: 0.0563 - val_accuracy: 0.9856\n",
            "Epoch 3/20\n",
            "8982/8982 [==============================] - 1s 72us/step - loss: 0.0547 - accuracy: 0.9857 - val_loss: 0.0544 - val_accuracy: 0.9863\n",
            "Epoch 4/20\n",
            "8982/8982 [==============================] - 1s 74us/step - loss: 0.0528 - accuracy: 0.9862 - val_loss: 0.0532 - val_accuracy: 0.9866\n",
            "Epoch 5/20\n",
            "8982/8982 [==============================] - 1s 72us/step - loss: 0.0514 - accuracy: 0.9863 - val_loss: 0.0522 - val_accuracy: 0.9867\n",
            "Epoch 6/20\n",
            "8982/8982 [==============================] - 1s 75us/step - loss: 0.0502 - accuracy: 0.9866 - val_loss: 0.0517 - val_accuracy: 0.9869\n",
            "Epoch 7/20\n",
            "8982/8982 [==============================] - 1s 75us/step - loss: 0.0493 - accuracy: 0.9869 - val_loss: 0.0510 - val_accuracy: 0.9869\n",
            "Epoch 8/20\n",
            "8982/8982 [==============================] - 1s 73us/step - loss: 0.0485 - accuracy: 0.9868 - val_loss: 0.0507 - val_accuracy: 0.9870\n",
            "Epoch 9/20\n",
            "8982/8982 [==============================] - 1s 73us/step - loss: 0.0475 - accuracy: 0.9869 - val_loss: 0.0504 - val_accuracy: 0.9869\n",
            "Epoch 10/20\n",
            "8982/8982 [==============================] - 1s 70us/step - loss: 0.0469 - accuracy: 0.9869 - val_loss: 0.0501 - val_accuracy: 0.9871\n",
            "Epoch 11/20\n",
            "8982/8982 [==============================] - 1s 74us/step - loss: 0.0463 - accuracy: 0.9870 - val_loss: 0.0498 - val_accuracy: 0.9870\n",
            "Epoch 12/20\n",
            "8982/8982 [==============================] - 1s 74us/step - loss: 0.0457 - accuracy: 0.9870 - val_loss: 0.0497 - val_accuracy: 0.9870\n",
            "Epoch 13/20\n",
            "8982/8982 [==============================] - 1s 75us/step - loss: 0.0449 - accuracy: 0.9872 - val_loss: 0.0495 - val_accuracy: 0.9871\n",
            "Epoch 14/20\n",
            "8982/8982 [==============================] - 1s 72us/step - loss: 0.0444 - accuracy: 0.9874 - val_loss: 0.0496 - val_accuracy: 0.9870\n",
            "Epoch 15/20\n",
            "8982/8982 [==============================] - 1s 72us/step - loss: 0.0441 - accuracy: 0.9873 - val_loss: 0.0493 - val_accuracy: 0.9870\n",
            "Epoch 16/20\n",
            "8982/8982 [==============================] - 1s 77us/step - loss: 0.0434 - accuracy: 0.9874 - val_loss: 0.0493 - val_accuracy: 0.9871\n",
            "Epoch 17/20\n",
            "8982/8982 [==============================] - 1s 77us/step - loss: 0.0431 - accuracy: 0.9874 - val_loss: 0.0494 - val_accuracy: 0.9870\n",
            "Epoch 18/20\n",
            "8982/8982 [==============================] - 1s 76us/step - loss: 0.0426 - accuracy: 0.9876 - val_loss: 0.0492 - val_accuracy: 0.9870\n",
            "Epoch 19/20\n",
            "8982/8982 [==============================] - 1s 75us/step - loss: 0.0422 - accuracy: 0.9875 - val_loss: 0.0491 - val_accuracy: 0.9870\n",
            "Epoch 20/20\n",
            "8982/8982 [==============================] - 1s 74us/step - loss: 0.0418 - accuracy: 0.9876 - val_loss: 0.0491 - val_accuracy: 0.9871\n"
          ],
          "name": "stdout"
        }
      ]
    },
    {
      "cell_type": "markdown",
      "metadata": {
        "id": "TzfeDiqMagXt",
        "colab_type": "text"
      },
      "source": [
        "Evaluating test data"
      ]
    },
    {
      "cell_type": "code",
      "metadata": {
        "id": "u0hlIy3cYqQf",
        "colab_type": "code",
        "colab": {
          "base_uri": "https://localhost:8080/",
          "height": 68
        },
        "outputId": "88101bb5-3dc2-4cb0-8739-da141f025bfd"
      },
      "source": [
        "results = model.evaluate(x_test, y_test_cat, batch_size=128)\n",
        "print(\"test loss = {}\\ntest accuracy = {}\".format(results[0], results[1]))"
      ],
      "execution_count": 242,
      "outputs": [
        {
          "output_type": "stream",
          "text": [
            "2246/2246 [==============================] - 0s 15us/step\n",
            "test loss = 0.04910573741472521\n",
            "test accuracy = 0.9871171712875366\n"
          ],
          "name": "stdout"
        }
      ]
    },
    {
      "cell_type": "markdown",
      "metadata": {
        "id": "_viUgRwAax4K",
        "colab_type": "text"
      },
      "source": [
        "Plotting model loss and accuracy charts"
      ]
    },
    {
      "cell_type": "code",
      "metadata": {
        "id": "KaQMWF5BaBGB",
        "colab_type": "code",
        "colab": {
          "base_uri": "https://localhost:8080/",
          "height": 573
        },
        "outputId": "1772de53-234d-4764-839e-827835652a71"
      },
      "source": [
        "plt.plot(history.history['loss'])\n",
        "plt.plot(history.history['val_loss'])\n",
        "plt.title('Model Loss')\n",
        "plt.ylabel('loss')\n",
        "plt.xlabel('epoch')\n",
        "plt.legend(['train', 'test'], loc='upper left')\n",
        "plt.show()\n",
        "\n",
        "plt.plot(history.history['accuracy'])\n",
        "plt.plot(history.history['val_accuracy'])\n",
        "plt.title('Model Accuracy')\n",
        "plt.ylabel('accuracy')\n",
        "plt.xlabel('epoch')\n",
        "plt.legend(['train', 'test'], loc='upper left')\n",
        "plt.show()"
      ],
      "execution_count": 243,
      "outputs": [
        {
          "output_type": "display_data",
          "data": {
            "image/png": "[encoded data removed]",
            "text/plain": [
              "<Figure size 432x288 with 1 Axes>"
            ]
          },
          "metadata": {
            "tags": [],
            "needs_background": "light"
          }
        },
        {
          "output_type": "display_data",
          "data": {
            "image/png": "[encoded data removed]",
            "text/plain": [
              "<Figure size 432x288 with 1 Axes>"
            ]
          },
          "metadata": {
            "tags": [],
            "needs_background": "light"
          }
        }
      ]
    }
  ]
}