{
  "nbformat": 4,
  "nbformat_minor": 0,
  "metadata": {
    "colab": {
      "name": "keras_embedding.ipynb",
      "provenance": [],
      "authorship_tag": "ABX9TyP/6YnatcNxD11Ko8fYfIbd",
      "include_colab_link": true
    },
    "kernelspec": {
      "name": "python3",
      "display_name": "Python 3"
    }
  },
  "cells": [
    {
      "cell_type": "markdown",
      "metadata": {
        "id": "view-in-github",
        "colab_type": "text"
      },
      "source": [
        "<a href=\"https://colab.research.google.com/github/somsubhra999/nlpc7_keras_embedding/blob/master/keras_embedding.ipynb\" target=\"_parent\"><img src=\"https://colab.research.google.com/assets/colab-badge.svg\" alt=\"Open In Colab\"/></a>"
      ]
    },
    {
      "cell_type": "code",
      "metadata": {
        "id": "rQWhBnQVR5DX",
        "colab_type": "code",
        "colab": {}
      },
      "source": [
        "from keras import models, layers, backend\n",
        "from keras.utils.np_utils import to_categorical\n",
        "from keras.datasets import reuters\n",
        "from keras.preprocessing.sequence import pad_sequences\n",
        "from pprint import pprint\n",
        "import matplotlib.pyplot as plt"
      ],
      "execution_count": null,
      "outputs": []
    },
    {
      "cell_type": "markdown",
      "metadata": {
        "id": "HIHeey9VzOW_",
        "colab_type": "text"
      },
      "source": [
        "Creating word index and reverse word index for the Reuters dataset and printing first 10 samples of each"
      ]
    },
    {
      "cell_type": "code",
      "metadata": {
        "id": "0Xhtrg3SeK2N",
        "colab_type": "code",
        "colab": {
          "base_uri": "https://localhost:8080/",
          "height": 357
        },
        "outputId": "ee5926a1-60c7-4c47-df00-e4970ab26444"
      },
      "source": [
        "word_index = reuters.get_word_index()\n",
        "reverse_word_index = dict(map(reversed, word_index.items()))\n",
        "\n",
        "pprint(dict(list(word_index.items())[0: 10]))\n",
        "pprint(dict(list(reverse_word_index.items())[0: 10]))"
      ],
      "execution_count": null,
      "outputs": [
        {
          "output_type": "stream",
          "text": [
            "{'chanthaburi': 20675,\n",
            " 'degussa': 12089,\n",
            " 'fawc': 16260,\n",
            " 'hanging': 13796,\n",
            " 'hermann': 8804,\n",
            " 'localized': 20672,\n",
            " 'mdbl': 10996,\n",
            " 'refunding': 10997,\n",
            " 'sation': 20673,\n",
            " 'woods': 8803}\n",
            "{8803: 'woods',\n",
            " 8804: 'hermann',\n",
            " 10996: 'mdbl',\n",
            " 10997: 'refunding',\n",
            " 12089: 'degussa',\n",
            " 13796: 'hanging',\n",
            " 16260: 'fawc',\n",
            " 20672: 'localized',\n",
            " 20673: 'sation',\n",
            " 20675: 'chanthaburi'}\n"
          ],
          "name": "stdout"
        }
      ]
    },
    {
      "cell_type": "markdown",
      "metadata": {
        "id": "W58gVPaKzfeQ",
        "colab_type": "text"
      },
      "source": [
        "Loading data and associated labels. The entire dataset is split with a 0.2 ratio which means 80% of the data will be used for training and 20% for testing.\n",
        "\n",
        "Words are ranked by how often they occur (in the training set) and only the `num_words` most frequent words are kept. For our training we are keeping only the top 200 frequent words."
      ]
    },
    {
      "cell_type": "code",
      "metadata": {
        "id": "MteoIZvRmLL4",
        "colab_type": "code",
        "colab": {}
      },
      "source": [
        "max_length = 200\n",
        "(x_train, y_train), (x_test, y_test) = reuters.load_data(test_split=0.2, num_words=max_length)"
      ],
      "execution_count": 340,
      "outputs": []
    },
    {
      "cell_type": "markdown",
      "metadata": {
        "id": "fbBPhjr-ID3h",
        "colab_type": "text"
      },
      "source": [
        "Converting the class vectors to binary class matrices (one-hot encoded)."
      ]
    },
    {
      "cell_type": "code",
      "metadata": {
        "id": "EaArg_XWLji4",
        "colab_type": "code",
        "colab": {
          "base_uri": "https://localhost:8080/",
          "height": 34
        },
        "outputId": "9ac19498-563c-4096-a377-81926d17ef79"
      },
      "source": [
        "y_train_cat = to_categorical(y_train)\n",
        "y_test_cat = to_categorical(y_test)\n",
        "\n",
        "categories = len(y_train_cat[0])\n",
        "\n",
        "print('Total categories = {}'.format(categories))"
      ],
      "execution_count": 341,
      "outputs": [
        {
          "output_type": "stream",
          "text": [
            "Total categories = 46\n"
          ],
          "name": "stdout"
        }
      ]
    },
    {
      "cell_type": "markdown",
      "metadata": {
        "id": "M49G7M_819U8",
        "colab_type": "text"
      },
      "source": [
        "Padding zeroes to the end of each sequence to ensure that each sequence has a uniform length."
      ]
    },
    {
      "cell_type": "code",
      "metadata": {
        "id": "4-eJhscezv96",
        "colab_type": "code",
        "colab": {}
      },
      "source": [
        "x_train = pad_sequences(x_train, maxlen=max_length, padding='post')\n",
        "x_test = pad_sequences(x_test, maxlen=max_length, padding='post')"
      ],
      "execution_count": 342,
      "outputs": []
    },
    {
      "cell_type": "markdown",
      "metadata": {
        "id": "7mj6u0C5F4Xf",
        "colab_type": "text"
      },
      "source": [
        "Creating and adding layers to the model."
      ]
    },
    {
      "cell_type": "code",
      "metadata": {
        "id": "ZaiMTv3EKzF9",
        "colab_type": "code",
        "colab": {
          "base_uri": "https://localhost:8080/",
          "height": 289
        },
        "outputId": "b57e824c-8987-449f-c589-dd8a13c06aa5"
      },
      "source": [
        "backend.clear_session()\n",
        "model = models.Sequential()\n",
        "model.add(Embedding(max_length, 8, input_length=max_length))\n",
        "model.add(layers.Flatten())\n",
        "model.add(layers.Dropout(0.5))\n",
        "model.add(layers.Dense(categories, activation='softmax'))\n",
        "\n",
        "model.compile(optimizer='adam',\n",
        "              loss='categorical_crossentropy',\n",
        "              metrics=['accuracy'])\n",
        "model.summary()"
      ],
      "execution_count": 345,
      "outputs": [
        {
          "output_type": "stream",
          "text": [
            "Model: \"sequential_1\"\n",
            "_________________________________________________________________\n",
            "Layer (type)                 Output Shape              Param #   \n",
            "=================================================================\n",
            "embedding_1 (Embedding)      (None, 200, 8)            1600      \n",
            "_________________________________________________________________\n",
            "flatten_1 (Flatten)          (None, 1600)              0         \n",
            "_________________________________________________________________\n",
            "dropout_1 (Dropout)          (None, 1600)              0         \n",
            "_________________________________________________________________\n",
            "dense_1 (Dense)              (None, 46)                73646     \n",
            "=================================================================\n",
            "Total params: 75,246\n",
            "Trainable params: 75,246\n",
            "Non-trainable params: 0\n",
            "_________________________________________________________________\n"
          ],
          "name": "stdout"
        }
      ]
    },
    {
      "cell_type": "markdown",
      "metadata": {
        "id": "zVtAoZwTL2BY",
        "colab_type": "text"
      },
      "source": [
        "Training the model for 10 epochs."
      ]
    },
    {
      "cell_type": "code",
      "metadata": {
        "id": "_Or_HuYPL847",
        "colab_type": "code",
        "colab": {
          "base_uri": "https://localhost:8080/",
          "height": 428
        },
        "outputId": "8bfe43dc-9a0b-4ffd-d977-9f00227a4800"
      },
      "source": [
        "history = model.fit(x_train,\n",
        "                    y_train_cat,\n",
        "                    epochs=10,\n",
        "                    validation_data=(x_test, y_test_cat))"
      ],
      "execution_count": 346,
      "outputs": [
        {
          "output_type": "stream",
          "text": [
            "/usr/local/lib/python3.6/dist-packages/tensorflow/python/framework/indexed_slices.py:434: UserWarning: Converting sparse IndexedSlices to a dense Tensor of unknown shape. This may consume a large amount of memory.\n",
            "  \"Converting sparse IndexedSlices to a dense Tensor of unknown shape. \"\n"
          ],
          "name": "stderr"
        },
        {
          "output_type": "stream",
          "text": [
            "Train on 8982 samples, validate on 2246 samples\n",
            "Epoch 1/10\n",
            "8982/8982 [==============================] - 1s 128us/step - loss: 2.2932 - accuracy: 0.4216 - val_loss: 1.9835 - val_accuracy: 0.5018\n",
            "Epoch 2/10\n",
            "8982/8982 [==============================] - 1s 117us/step - loss: 1.8568 - accuracy: 0.5190 - val_loss: 1.8080 - val_accuracy: 0.5414\n",
            "Epoch 3/10\n",
            "8982/8982 [==============================] - 1s 116us/step - loss: 1.6607 - accuracy: 0.5662 - val_loss: 1.7069 - val_accuracy: 0.5708\n",
            "Epoch 4/10\n",
            "8982/8982 [==============================] - 1s 112us/step - loss: 1.5006 - accuracy: 0.6094 - val_loss: 1.6486 - val_accuracy: 0.5913\n",
            "Epoch 5/10\n",
            "8982/8982 [==============================] - 1s 108us/step - loss: 1.3648 - accuracy: 0.6369 - val_loss: 1.6117 - val_accuracy: 0.6064\n",
            "Epoch 6/10\n",
            "8982/8982 [==============================] - 1s 116us/step - loss: 1.2464 - accuracy: 0.6677 - val_loss: 1.5923 - val_accuracy: 0.6144\n",
            "Epoch 7/10\n",
            "8982/8982 [==============================] - 1s 110us/step - loss: 1.1195 - accuracy: 0.6996 - val_loss: 1.5830 - val_accuracy: 0.6184\n",
            "Epoch 8/10\n",
            "8982/8982 [==============================] - 1s 109us/step - loss: 1.0232 - accuracy: 0.7223 - val_loss: 1.5712 - val_accuracy: 0.6269\n",
            "Epoch 9/10\n",
            "8982/8982 [==============================] - 1s 111us/step - loss: 0.9478 - accuracy: 0.7390 - val_loss: 1.5746 - val_accuracy: 0.6224\n",
            "Epoch 10/10\n",
            "8982/8982 [==============================] - 1s 113us/step - loss: 0.8869 - accuracy: 0.7574 - val_loss: 1.5766 - val_accuracy: 0.6327\n"
          ],
          "name": "stdout"
        }
      ]
    },
    {
      "cell_type": "markdown",
      "metadata": {
        "id": "TzfeDiqMagXt",
        "colab_type": "text"
      },
      "source": [
        "Evaluating test data"
      ]
    },
    {
      "cell_type": "code",
      "metadata": {
        "id": "u0hlIy3cYqQf",
        "colab_type": "code",
        "colab": {
          "base_uri": "https://localhost:8080/",
          "height": 68
        },
        "outputId": "457fecd9-18df-4dc4-ec2b-978fcaca9f27"
      },
      "source": [
        "results = model.evaluate(x_test, y_test_cat, batch_size=128)\n",
        "print(\"test loss = {}\\ntest accuracy = {}\".format(results[0], results[1]))"
      ],
      "execution_count": 347,
      "outputs": [
        {
          "output_type": "stream",
          "text": [
            "2246/2246 [==============================] - 0s 17us/step\n",
            "test loss = 1.576572124064234\n",
            "test accuracy = 0.6326802968978882\n"
          ],
          "name": "stdout"
        }
      ]
    },
    {
      "cell_type": "markdown",
      "metadata": {
        "id": "_viUgRwAax4K",
        "colab_type": "text"
      },
      "source": [
        "Plotting model loss and accuracy charts"
      ]
    },
    {
      "cell_type": "code",
      "metadata": {
        "id": "KaQMWF5BaBGB",
        "colab_type": "code",
        "colab": {
          "base_uri": "https://localhost:8080/",
          "height": 573
        },
        "outputId": "f2da0695-d1eb-4ea6-ce4b-6d0406bf992d"
      },
      "source": [
        "plt.plot(history.history['loss'])\n",
        "plt.plot(history.history['val_loss'])\n",
        "plt.title('Model Loss')\n",
        "plt.ylabel('loss')\n",
        "plt.xlabel('epoch')\n",
        "plt.legend(['train', 'test'], loc='upper left')\n",
        "plt.show()\n",
        "\n",
        "plt.plot(history.history['accuracy'])\n",
        "plt.plot(history.history['val_accuracy'])\n",
        "plt.title('Model Accuracy')\n",
        "plt.ylabel('accuracy')\n",
        "plt.xlabel('epoch')\n",
        "plt.legend(['train', 'test'], loc='upper left')\n",
        "plt.show()"
      ],
      "execution_count": 348,
      "outputs": [
        {
          "output_type": "display_data",
          "data": {
            "image/png": "[encoded data removed]",
            "text/plain": [
              "<Figure size 432x288 with 1 Axes>"
            ]
          },
          "metadata": {
            "tags": [],
            "needs_background": "light"
          }
        },
        {
          "output_type": "display_data",
          "data": {
            "image/png": "[encoded data removed]",
            "text/plain": [
              "<Figure size 432x288 with 1 Axes>"
            ]
          },
          "metadata": {
            "tags": [],
            "needs_background": "light"
          }
        }
      ]
    }
  ]
}